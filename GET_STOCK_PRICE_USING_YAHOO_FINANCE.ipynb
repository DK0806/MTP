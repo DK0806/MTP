{
  "nbformat": 4,
  "nbformat_minor": 0,
  "metadata": {
    "colab": {
      "provenance": []
    },
    "kernelspec": {
      "name": "python3",
      "display_name": "Python 3"
    },
    "language_info": {
      "name": "python"
    }
  },
  "cells": [
    {
      "cell_type": "markdown",
      "source": [
        "WE WILL USE YAHOOFINANCE TO GET STOCK PRICE DATA\n",
        "TO GET THIS API WE NEED TO INSTALL YAHOOFINANCE API\n",
        "command\n",
        ": pip install yfinance"
      ],
      "metadata": {
        "id": "JtyOg6-2rtjh"
      }
    },
    {
      "cell_type": "code",
      "source": [
        "pip install yfinance"
      ],
      "metadata": {
        "colab": {
          "base_uri": "https://localhost:8080/"
        },
        "id": "wiEqzLzwsMmO",
        "outputId": "3566ec44-5d4b-4354-d2b0-70e93e16cfe7"
      },
      "execution_count": 1,
      "outputs": [
        {
          "output_type": "stream",
          "name": "stdout",
          "text": [
            "Requirement already satisfied: yfinance in /usr/local/lib/python3.10/dist-packages (0.2.43)\n",
            "Requirement already satisfied: pandas>=1.3.0 in /usr/local/lib/python3.10/dist-packages (from yfinance) (2.1.4)\n",
            "Requirement already satisfied: numpy>=1.16.5 in /usr/local/lib/python3.10/dist-packages (from yfinance) (1.26.4)\n",
            "Requirement already satisfied: requests>=2.31 in /usr/local/lib/python3.10/dist-packages (from yfinance) (2.32.3)\n",
            "Requirement already satisfied: multitasking>=0.0.7 in /usr/local/lib/python3.10/dist-packages (from yfinance) (0.0.11)\n",
            "Requirement already satisfied: lxml>=4.9.1 in /usr/local/lib/python3.10/dist-packages (from yfinance) (4.9.4)\n",
            "Requirement already satisfied: platformdirs>=2.0.0 in /usr/local/lib/python3.10/dist-packages (from yfinance) (4.2.2)\n",
            "Requirement already satisfied: pytz>=2022.5 in /usr/local/lib/python3.10/dist-packages (from yfinance) (2024.1)\n",
            "Requirement already satisfied: frozendict>=2.3.4 in /usr/local/lib/python3.10/dist-packages (from yfinance) (2.4.4)\n",
            "Requirement already satisfied: peewee>=3.16.2 in /usr/local/lib/python3.10/dist-packages (from yfinance) (3.17.6)\n",
            "Requirement already satisfied: beautifulsoup4>=4.11.1 in /usr/local/lib/python3.10/dist-packages (from yfinance) (4.12.3)\n",
            "Requirement already satisfied: html5lib>=1.1 in /usr/local/lib/python3.10/dist-packages (from yfinance) (1.1)\n",
            "Requirement already satisfied: soupsieve>1.2 in /usr/local/lib/python3.10/dist-packages (from beautifulsoup4>=4.11.1->yfinance) (2.6)\n",
            "Requirement already satisfied: six>=1.9 in /usr/local/lib/python3.10/dist-packages (from html5lib>=1.1->yfinance) (1.16.0)\n",
            "Requirement already satisfied: webencodings in /usr/local/lib/python3.10/dist-packages (from html5lib>=1.1->yfinance) (0.5.1)\n",
            "Requirement already satisfied: python-dateutil>=2.8.2 in /usr/local/lib/python3.10/dist-packages (from pandas>=1.3.0->yfinance) (2.8.2)\n",
            "Requirement already satisfied: tzdata>=2022.1 in /usr/local/lib/python3.10/dist-packages (from pandas>=1.3.0->yfinance) (2024.1)\n",
            "Requirement already satisfied: charset-normalizer<4,>=2 in /usr/local/lib/python3.10/dist-packages (from requests>=2.31->yfinance) (3.3.2)\n",
            "Requirement already satisfied: idna<4,>=2.5 in /usr/local/lib/python3.10/dist-packages (from requests>=2.31->yfinance) (3.8)\n",
            "Requirement already satisfied: urllib3<3,>=1.21.1 in /usr/local/lib/python3.10/dist-packages (from requests>=2.31->yfinance) (2.0.7)\n",
            "Requirement already satisfied: certifi>=2017.4.17 in /usr/local/lib/python3.10/dist-packages (from requests>=2.31->yfinance) (2024.7.4)\n"
          ]
        }
      ]
    },
    {
      "cell_type": "code",
      "source": [
        "import pandas as pd\n",
        "import yfinance as yf\n",
        "import datetime\n",
        "from datetime import date, timedelta\n",
        "today = date.today()\n",
        "\n",
        "\n",
        "d1 = today.strftime(\"%Y-%m-%d\")\n",
        "end_date = d1\n",
        "d2 = date.today() - timedelta(days=730)\n",
        "d2 = d2.strftime(\"%Y-%m-%d\")\n",
        "start_date = d2\n",
        "\n",
        "\n",
        "data = yf.download('AAPL' , start = start_date , end = end_date , progress = False)\n",
        "print(data.head())"
      ],
      "metadata": {
        "colab": {
          "base_uri": "https://localhost:8080/"
        },
        "id": "d7ALnFjLsQU7",
        "outputId": "ec1b9174-ec98-41c0-c44f-54941fe110b4"
      },
      "execution_count": 4,
      "outputs": [
        {
          "output_type": "stream",
          "name": "stdout",
          "text": [
            "                  Open        High         Low       Close   Adj Close  \\\n",
            "Date                                                                     \n",
            "2022-08-31  160.309998  160.580002  157.139999  157.220001  155.497101   \n",
            "2022-09-01  156.639999  158.419998  154.669998  157.960007  156.229019   \n",
            "2022-09-02  159.750000  160.360001  154.970001  155.809998  154.102570   \n",
            "2022-09-06  156.470001  157.089996  153.690002  154.529999  152.836578   \n",
            "2022-09-07  154.820007  156.669998  153.610001  155.960007  154.250946   \n",
            "\n",
            "              Volume  \n",
            "Date                  \n",
            "2022-08-31  87991100  \n",
            "2022-09-01  74229900  \n",
            "2022-09-02  76957800  \n",
            "2022-09-06  73714800  \n",
            "2022-09-07  87449600  \n"
          ]
        }
      ]
    },
    {
      "cell_type": "markdown",
      "source": [
        "The above code will collect the stock price data from today to the last 360 days. In this dataset, Date is not a column, it’s the index of this dataset. To use this data for any data science task, we need to convert this index into a column. Below is how you can do that:"
      ],
      "metadata": {
        "id": "ZtdnP9TitnC1"
      }
    },
    {
      "cell_type": "code",
      "source": [
        "data[\"Date\"]= data.index\n",
        "data = data[[\"Date\" , \"Open\" , \"High\",\n",
        "             \"Low\" , \"Close\" , \"Adj Close\",\n",
        "             \"Volume\"]]\n",
        "\n",
        "\n",
        "data.reset_index(drop = True , inplace=True)\n",
        "print(data.head())"
      ],
      "metadata": {
        "colab": {
          "base_uri": "https://localhost:8080/"
        },
        "id": "fUf0Sdt2t8LJ",
        "outputId": "a0c2974c-b3a4-48a9-a671-03f521aa4863"
      },
      "execution_count": 5,
      "outputs": [
        {
          "output_type": "stream",
          "name": "stdout",
          "text": [
            "        Date        Open        High         Low       Close   Adj Close  \\\n",
            "0 2022-08-31  160.309998  160.580002  157.139999  157.220001  155.497101   \n",
            "1 2022-09-01  156.639999  158.419998  154.669998  157.960007  156.229019   \n",
            "2 2022-09-02  159.750000  160.360001  154.970001  155.809998  154.102570   \n",
            "3 2022-09-06  156.470001  157.089996  153.690002  154.529999  152.836578   \n",
            "4 2022-09-07  154.820007  156.669998  153.610001  155.960007  154.250946   \n",
            "\n",
            "     Volume  \n",
            "0  87991100  \n",
            "1  74229900  \n",
            "2  76957800  \n",
            "3  73714800  \n",
            "4  87449600  \n"
          ]
        }
      ]
    },
    {
      "cell_type": "code",
      "source": [],
      "metadata": {
        "id": "_wYHh14nuac0"
      },
      "execution_count": null,
      "outputs": []
    }
  ]
}